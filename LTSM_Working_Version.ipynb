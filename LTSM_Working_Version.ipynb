{
  "nbformat": 4,
  "nbformat_minor": 0,
  "metadata": {
    "colab": {
      "provenance": [],
      "gpuType": "T4"
    },
    "kernelspec": {
      "name": "python3",
      "display_name": "Python 3"
    },
    "language_info": {
      "name": "python"
    },
    "accelerator": "GPU"
  },
  "cells": [
    {
      "cell_type": "code",
      "source": [
        "!pip install torchtext==0.6 torch==1.11"
      ],
      "metadata": {
        "colab": {
          "base_uri": "https://localhost:8080/",
          "height": 689
        },
        "id": "L2kdAM3Gpk8F",
        "outputId": "2cd34411-e3c6-4e68-8b77-792aa5574699"
      },
      "execution_count": null,
      "outputs": [
        {
          "output_type": "stream",
          "name": "stdout",
          "text": [
            "Collecting torchtext==0.6\n",
            "  Using cached torchtext-0.6.0-py3-none-any.whl (64 kB)\n",
            "Collecting torch==1.11\n",
            "  Downloading torch-1.11.0-cp310-cp310-manylinux1_x86_64.whl (750.6 MB)\n",
            "\u001b[2K     \u001b[90m━━━━━━━━━━━━━━━━━━━━━━━━━━━━━━━━━━━━━━━━\u001b[0m \u001b[32m750.6/750.6 MB\u001b[0m \u001b[31m1.8 MB/s\u001b[0m eta \u001b[36m0:00:00\u001b[0m\n",
            "\u001b[?25hRequirement already satisfied: tqdm in /usr/local/lib/python3.10/dist-packages (from torchtext==0.6) (4.66.1)\n",
            "Requirement already satisfied: requests in /usr/local/lib/python3.10/dist-packages (from torchtext==0.6) (2.31.0)\n",
            "Requirement already satisfied: numpy in /usr/local/lib/python3.10/dist-packages (from torchtext==0.6) (1.23.5)\n",
            "Requirement already satisfied: six in /usr/local/lib/python3.10/dist-packages (from torchtext==0.6) (1.16.0)\n",
            "Collecting sentencepiece (from torchtext==0.6)\n",
            "  Downloading sentencepiece-0.1.99-cp310-cp310-manylinux_2_17_x86_64.manylinux2014_x86_64.whl (1.3 MB)\n",
            "\u001b[2K     \u001b[90m━━━━━━━━━━━━━━━━━━━━━━━━━━━━━━━━━━━━━━━━\u001b[0m \u001b[32m1.3/1.3 MB\u001b[0m \u001b[31m55.7 MB/s\u001b[0m eta \u001b[36m0:00:00\u001b[0m\n",
            "\u001b[?25hRequirement already satisfied: typing-extensions in /usr/local/lib/python3.10/dist-packages (from torch==1.11) (4.5.0)\n",
            "Requirement already satisfied: charset-normalizer<4,>=2 in /usr/local/lib/python3.10/dist-packages (from requests->torchtext==0.6) (3.3.2)\n",
            "Requirement already satisfied: idna<4,>=2.5 in /usr/local/lib/python3.10/dist-packages (from requests->torchtext==0.6) (3.6)\n",
            "Requirement already satisfied: urllib3<3,>=1.21.1 in /usr/local/lib/python3.10/dist-packages (from requests->torchtext==0.6) (2.0.7)\n",
            "Requirement already satisfied: certifi>=2017.4.17 in /usr/local/lib/python3.10/dist-packages (from requests->torchtext==0.6) (2023.11.17)\n",
            "Installing collected packages: sentencepiece, torch, torchtext\n",
            "  Attempting uninstall: torch\n",
            "    Found existing installation: torch 2.1.0+cu121\n",
            "    Uninstalling torch-2.1.0+cu121:\n",
            "      Successfully uninstalled torch-2.1.0+cu121\n",
            "  Attempting uninstall: torchtext\n",
            "    Found existing installation: torchtext 0.16.0\n",
            "    Uninstalling torchtext-0.16.0:\n",
            "      Successfully uninstalled torchtext-0.16.0\n",
            "\u001b[31mERROR: pip's dependency resolver does not currently take into account all the packages that are installed. This behaviour is the source of the following dependency conflicts.\n",
            "torchaudio 2.1.0+cu121 requires torch==2.1.0, but you have torch 1.11.0 which is incompatible.\n",
            "torchdata 0.7.0 requires torch==2.1.0, but you have torch 1.11.0 which is incompatible.\n",
            "torchvision 0.16.0+cu121 requires torch==2.1.0, but you have torch 1.11.0 which is incompatible.\u001b[0m\u001b[31m\n",
            "\u001b[0mSuccessfully installed sentencepiece-0.1.99 torch-1.11.0 torchtext-0.6.0\n"
          ]
        },
        {
          "output_type": "display_data",
          "data": {
            "application/vnd.colab-display-data+json": {
              "pip_warning": {
                "packages": [
                  "torch",
                  "torchtext"
                ]
              }
            }
          },
          "metadata": {}
        }
      ]
    },
    {
      "cell_type": "code",
      "source": [
        "import torch\n",
        "import torch.nn.functional as F\n",
        "import torchtext\n",
        "from torchtext.data import Field, TabularDataset, BucketIterator, Iterator\n",
        "from torchtext.data.utils import get_tokenizer\n",
        "import time\n",
        "import random\n",
        "import pandas as pd\n",
        "\n",
        "torch.backends.cudnn.deterministic = True"
      ],
      "metadata": {
        "id": "q9Mnv0c3uBYQ"
      },
      "execution_count": null,
      "outputs": []
    },
    {
      "cell_type": "code",
      "source": [
        "RANDOM_SEED = 123\n",
        "torch.manual_seed(RANDOM_SEED)\n",
        "\n",
        "vocab_size = 20000\n",
        "l_rate = 0.005\n",
        "batch_size = 128\n",
        "num_epochs = 15\n",
        "\n",
        "embedding_dim = 128\n",
        "hidden_dim = 256\n",
        "num_classes = 2\n",
        "\n",
        "device = torch.device('cuda' if torch.cuda.is_available() else 'cpu')"
      ],
      "metadata": {
        "id": "GfS5_kXanxoW"
      },
      "execution_count": null,
      "outputs": []
    },
    {
      "cell_type": "code",
      "source": [
        "!wget https://github.com/rasbt/python-machine-learning-book-3rd-edition/raw/master/ch08/movie_data.csv.gz"
      ],
      "metadata": {
        "colab": {
          "base_uri": "https://localhost:8080/"
        },
        "id": "3pxS10GUnzzL",
        "outputId": "ba7e55be-dcfb-436d-d756-3111bc38fa8e"
      },
      "execution_count": null,
      "outputs": [
        {
          "output_type": "stream",
          "name": "stdout",
          "text": [
            "--2024-01-05 03:45:19--  https://github.com/rasbt/python-machine-learning-book-3rd-edition/raw/master/ch08/movie_data.csv.gz\n",
            "Resolving github.com (github.com)... 140.82.113.3\n",
            "Connecting to github.com (github.com)|140.82.113.3|:443... connected.\n",
            "HTTP request sent, awaiting response... 302 Found\n",
            "Location: https://raw.githubusercontent.com/rasbt/python-machine-learning-book-3rd-edition/master/ch08/movie_data.csv.gz [following]\n",
            "--2024-01-05 03:45:19--  https://raw.githubusercontent.com/rasbt/python-machine-learning-book-3rd-edition/master/ch08/movie_data.csv.gz\n",
            "Resolving raw.githubusercontent.com (raw.githubusercontent.com)... 185.199.108.133, 185.199.109.133, 185.199.110.133, ...\n",
            "Connecting to raw.githubusercontent.com (raw.githubusercontent.com)|185.199.108.133|:443... connected.\n",
            "HTTP request sent, awaiting response... 200 OK\n",
            "Length: 26521894 (25M) [application/octet-stream]\n",
            "Saving to: ‘movie_data.csv.gz’\n",
            "\n",
            "movie_data.csv.gz   100%[===================>]  25.29M  --.-KB/s    in 0.1s    \n",
            "\n",
            "2024-01-05 03:45:19 (173 MB/s) - ‘movie_data.csv.gz’ saved [26521894/26521894]\n",
            "\n"
          ]
        }
      ]
    },
    {
      "cell_type": "code",
      "source": [
        "!gunzip -f movie_data.csv.gz"
      ],
      "metadata": {
        "id": "q-I8tVDtn1sg"
      },
      "execution_count": null,
      "outputs": []
    },
    {
      "cell_type": "code",
      "source": [
        "import pandas as pd\n",
        "\n",
        "df = pd.read_csv('movie_data.csv')\n",
        "df.head()"
      ],
      "metadata": {
        "colab": {
          "base_uri": "https://localhost:8080/",
          "height": 206
        },
        "id": "IUmCAAxbn3nd",
        "outputId": "ad419c33-9964-4cd6-ed43-2abb330fac46"
      },
      "execution_count": null,
      "outputs": [
        {
          "output_type": "execute_result",
          "data": {
            "text/plain": [
              "                                              review  sentiment\n",
              "0  In 1974, the teenager Martha Moxley (Maggie Gr...          1\n",
              "1  OK... so... I really like Kris Kristofferson a...          0\n",
              "2  ***SPOILER*** Do not read this, if you think a...          0\n",
              "3  hi for all the people who have seen this wonde...          1\n",
              "4  I recently bought the DVD, forgetting just how...          0"
            ],
            "text/html": [
              "\n",
              "  <div id=\"df-8ba7b3ab-55a2-4d6f-91d7-eff97723bac1\" class=\"colab-df-container\">\n",
              "    <div>\n",
              "<style scoped>\n",
              "    .dataframe tbody tr th:only-of-type {\n",
              "        vertical-align: middle;\n",
              "    }\n",
              "\n",
              "    .dataframe tbody tr th {\n",
              "        vertical-align: top;\n",
              "    }\n",
              "\n",
              "    .dataframe thead th {\n",
              "        text-align: right;\n",
              "    }\n",
              "</style>\n",
              "<table border=\"1\" class=\"dataframe\">\n",
              "  <thead>\n",
              "    <tr style=\"text-align: right;\">\n",
              "      <th></th>\n",
              "      <th>review</th>\n",
              "      <th>sentiment</th>\n",
              "    </tr>\n",
              "  </thead>\n",
              "  <tbody>\n",
              "    <tr>\n",
              "      <th>0</th>\n",
              "      <td>In 1974, the teenager Martha Moxley (Maggie Gr...</td>\n",
              "      <td>1</td>\n",
              "    </tr>\n",
              "    <tr>\n",
              "      <th>1</th>\n",
              "      <td>OK... so... I really like Kris Kristofferson a...</td>\n",
              "      <td>0</td>\n",
              "    </tr>\n",
              "    <tr>\n",
              "      <th>2</th>\n",
              "      <td>***SPOILER*** Do not read this, if you think a...</td>\n",
              "      <td>0</td>\n",
              "    </tr>\n",
              "    <tr>\n",
              "      <th>3</th>\n",
              "      <td>hi for all the people who have seen this wonde...</td>\n",
              "      <td>1</td>\n",
              "    </tr>\n",
              "    <tr>\n",
              "      <th>4</th>\n",
              "      <td>I recently bought the DVD, forgetting just how...</td>\n",
              "      <td>0</td>\n",
              "    </tr>\n",
              "  </tbody>\n",
              "</table>\n",
              "</div>\n",
              "    <div class=\"colab-df-buttons\">\n",
              "\n",
              "  <div class=\"colab-df-container\">\n",
              "    <button class=\"colab-df-convert\" onclick=\"convertToInteractive('df-8ba7b3ab-55a2-4d6f-91d7-eff97723bac1')\"\n",
              "            title=\"Convert this dataframe to an interactive table.\"\n",
              "            style=\"display:none;\">\n",
              "\n",
              "  <svg xmlns=\"http://www.w3.org/2000/svg\" height=\"24px\" viewBox=\"0 -960 960 960\">\n",
              "    <path d=\"M120-120v-720h720v720H120Zm60-500h600v-160H180v160Zm220 220h160v-160H400v160Zm0 220h160v-160H400v160ZM180-400h160v-160H180v160Zm440 0h160v-160H620v160ZM180-180h160v-160H180v160Zm440 0h160v-160H620v160Z\"/>\n",
              "  </svg>\n",
              "    </button>\n",
              "\n",
              "  <style>\n",
              "    .colab-df-container {\n",
              "      display:flex;\n",
              "      gap: 12px;\n",
              "    }\n",
              "\n",
              "    .colab-df-convert {\n",
              "      background-color: #E8F0FE;\n",
              "      border: none;\n",
              "      border-radius: 50%;\n",
              "      cursor: pointer;\n",
              "      display: none;\n",
              "      fill: #1967D2;\n",
              "      height: 32px;\n",
              "      padding: 0 0 0 0;\n",
              "      width: 32px;\n",
              "    }\n",
              "\n",
              "    .colab-df-convert:hover {\n",
              "      background-color: #E2EBFA;\n",
              "      box-shadow: 0px 1px 2px rgba(60, 64, 67, 0.3), 0px 1px 3px 1px rgba(60, 64, 67, 0.15);\n",
              "      fill: #174EA6;\n",
              "    }\n",
              "\n",
              "    .colab-df-buttons div {\n",
              "      margin-bottom: 4px;\n",
              "    }\n",
              "\n",
              "    [theme=dark] .colab-df-convert {\n",
              "      background-color: #3B4455;\n",
              "      fill: #D2E3FC;\n",
              "    }\n",
              "\n",
              "    [theme=dark] .colab-df-convert:hover {\n",
              "      background-color: #434B5C;\n",
              "      box-shadow: 0px 1px 3px 1px rgba(0, 0, 0, 0.15);\n",
              "      filter: drop-shadow(0px 1px 2px rgba(0, 0, 0, 0.3));\n",
              "      fill: #FFFFFF;\n",
              "    }\n",
              "  </style>\n",
              "\n",
              "    <script>\n",
              "      const buttonEl =\n",
              "        document.querySelector('#df-8ba7b3ab-55a2-4d6f-91d7-eff97723bac1 button.colab-df-convert');\n",
              "      buttonEl.style.display =\n",
              "        google.colab.kernel.accessAllowed ? 'block' : 'none';\n",
              "\n",
              "      async function convertToInteractive(key) {\n",
              "        const element = document.querySelector('#df-8ba7b3ab-55a2-4d6f-91d7-eff97723bac1');\n",
              "        const dataTable =\n",
              "          await google.colab.kernel.invokeFunction('convertToInteractive',\n",
              "                                                    [key], {});\n",
              "        if (!dataTable) return;\n",
              "\n",
              "        const docLinkHtml = 'Like what you see? Visit the ' +\n",
              "          '<a target=\"_blank\" href=https://colab.research.google.com/notebooks/data_table.ipynb>data table notebook</a>'\n",
              "          + ' to learn more about interactive tables.';\n",
              "        element.innerHTML = '';\n",
              "        dataTable['output_type'] = 'display_data';\n",
              "        await google.colab.output.renderOutput(dataTable, element);\n",
              "        const docLink = document.createElement('div');\n",
              "        docLink.innerHTML = docLinkHtml;\n",
              "        element.appendChild(docLink);\n",
              "      }\n",
              "    </script>\n",
              "  </div>\n",
              "\n",
              "\n",
              "<div id=\"df-fb0e3b4e-36c7-42ef-9d4b-f3d35a70ae61\">\n",
              "  <button class=\"colab-df-quickchart\" onclick=\"quickchart('df-fb0e3b4e-36c7-42ef-9d4b-f3d35a70ae61')\"\n",
              "            title=\"Suggest charts\"\n",
              "            style=\"display:none;\">\n",
              "\n",
              "<svg xmlns=\"http://www.w3.org/2000/svg\" height=\"24px\"viewBox=\"0 0 24 24\"\n",
              "     width=\"24px\">\n",
              "    <g>\n",
              "        <path d=\"M19 3H5c-1.1 0-2 .9-2 2v14c0 1.1.9 2 2 2h14c1.1 0 2-.9 2-2V5c0-1.1-.9-2-2-2zM9 17H7v-7h2v7zm4 0h-2V7h2v10zm4 0h-2v-4h2v4z\"/>\n",
              "    </g>\n",
              "</svg>\n",
              "  </button>\n",
              "\n",
              "<style>\n",
              "  .colab-df-quickchart {\n",
              "      --bg-color: #E8F0FE;\n",
              "      --fill-color: #1967D2;\n",
              "      --hover-bg-color: #E2EBFA;\n",
              "      --hover-fill-color: #174EA6;\n",
              "      --disabled-fill-color: #AAA;\n",
              "      --disabled-bg-color: #DDD;\n",
              "  }\n",
              "\n",
              "  [theme=dark] .colab-df-quickchart {\n",
              "      --bg-color: #3B4455;\n",
              "      --fill-color: #D2E3FC;\n",
              "      --hover-bg-color: #434B5C;\n",
              "      --hover-fill-color: #FFFFFF;\n",
              "      --disabled-bg-color: #3B4455;\n",
              "      --disabled-fill-color: #666;\n",
              "  }\n",
              "\n",
              "  .colab-df-quickchart {\n",
              "    background-color: var(--bg-color);\n",
              "    border: none;\n",
              "    border-radius: 50%;\n",
              "    cursor: pointer;\n",
              "    display: none;\n",
              "    fill: var(--fill-color);\n",
              "    height: 32px;\n",
              "    padding: 0;\n",
              "    width: 32px;\n",
              "  }\n",
              "\n",
              "  .colab-df-quickchart:hover {\n",
              "    background-color: var(--hover-bg-color);\n",
              "    box-shadow: 0 1px 2px rgba(60, 64, 67, 0.3), 0 1px 3px 1px rgba(60, 64, 67, 0.15);\n",
              "    fill: var(--button-hover-fill-color);\n",
              "  }\n",
              "\n",
              "  .colab-df-quickchart-complete:disabled,\n",
              "  .colab-df-quickchart-complete:disabled:hover {\n",
              "    background-color: var(--disabled-bg-color);\n",
              "    fill: var(--disabled-fill-color);\n",
              "    box-shadow: none;\n",
              "  }\n",
              "\n",
              "  .colab-df-spinner {\n",
              "    border: 2px solid var(--fill-color);\n",
              "    border-color: transparent;\n",
              "    border-bottom-color: var(--fill-color);\n",
              "    animation:\n",
              "      spin 1s steps(1) infinite;\n",
              "  }\n",
              "\n",
              "  @keyframes spin {\n",
              "    0% {\n",
              "      border-color: transparent;\n",
              "      border-bottom-color: var(--fill-color);\n",
              "      border-left-color: var(--fill-color);\n",
              "    }\n",
              "    20% {\n",
              "      border-color: transparent;\n",
              "      border-left-color: var(--fill-color);\n",
              "      border-top-color: var(--fill-color);\n",
              "    }\n",
              "    30% {\n",
              "      border-color: transparent;\n",
              "      border-left-color: var(--fill-color);\n",
              "      border-top-color: var(--fill-color);\n",
              "      border-right-color: var(--fill-color);\n",
              "    }\n",
              "    40% {\n",
              "      border-color: transparent;\n",
              "      border-right-color: var(--fill-color);\n",
              "      border-top-color: var(--fill-color);\n",
              "    }\n",
              "    60% {\n",
              "      border-color: transparent;\n",
              "      border-right-color: var(--fill-color);\n",
              "    }\n",
              "    80% {\n",
              "      border-color: transparent;\n",
              "      border-right-color: var(--fill-color);\n",
              "      border-bottom-color: var(--fill-color);\n",
              "    }\n",
              "    90% {\n",
              "      border-color: transparent;\n",
              "      border-bottom-color: var(--fill-color);\n",
              "    }\n",
              "  }\n",
              "</style>\n",
              "\n",
              "  <script>\n",
              "    async function quickchart(key) {\n",
              "      const quickchartButtonEl =\n",
              "        document.querySelector('#' + key + ' button');\n",
              "      quickchartButtonEl.disabled = true;  // To prevent multiple clicks.\n",
              "      quickchartButtonEl.classList.add('colab-df-spinner');\n",
              "      try {\n",
              "        const charts = await google.colab.kernel.invokeFunction(\n",
              "            'suggestCharts', [key], {});\n",
              "      } catch (error) {\n",
              "        console.error('Error during call to suggestCharts:', error);\n",
              "      }\n",
              "      quickchartButtonEl.classList.remove('colab-df-spinner');\n",
              "      quickchartButtonEl.classList.add('colab-df-quickchart-complete');\n",
              "    }\n",
              "    (() => {\n",
              "      let quickchartButtonEl =\n",
              "        document.querySelector('#df-fb0e3b4e-36c7-42ef-9d4b-f3d35a70ae61 button');\n",
              "      quickchartButtonEl.style.display =\n",
              "        google.colab.kernel.accessAllowed ? 'block' : 'none';\n",
              "    })();\n",
              "  </script>\n",
              "</div>\n",
              "\n",
              "    </div>\n",
              "  </div>\n"
            ]
          },
          "metadata": {},
          "execution_count": 5
        }
      ]
    },
    {
      "cell_type": "code",
      "source": [
        "tokenizer = get_tokenizer('spacy', language='en_core_web_sm')"
      ],
      "metadata": {
        "id": "7cvKqA16n5Dw"
      },
      "execution_count": null,
      "outputs": []
    },
    {
      "cell_type": "code",
      "source": [
        "TEXT = torchtext.data.Field(tokenize=tokenizer)\n",
        "LABEL = torchtext.data.LabelField(dtype=torch.long)"
      ],
      "metadata": {
        "id": "C6uJS5wBn8k2"
      },
      "execution_count": null,
      "outputs": []
    },
    {
      "cell_type": "code",
      "source": [
        "fields= [('text', TEXT), ('label', LABEL)]"
      ],
      "metadata": {
        "id": "4pm3-lbvoH_K"
      },
      "execution_count": null,
      "outputs": []
    },
    {
      "cell_type": "code",
      "source": [
        "dataset = torchtext.data.TabularDataset(\n",
        "    path='movie_data.csv',format='csv', skip_header=True, fields=fields)"
      ],
      "metadata": {
        "id": "ZlREtOFJoJuS"
      },
      "execution_count": null,
      "outputs": []
    },
    {
      "cell_type": "code",
      "source": [
        "train_data, test_data = dataset.split(\n",
        "    split_ratio = [0.8, 0.2],\n",
        "    random_state = random.seed(RANDOM_SEED))\n",
        "\n",
        "print(f'Num Train: {len(train_data)}')\n",
        "print(f'Num Test: {len(test_data)}')"
      ],
      "metadata": {
        "colab": {
          "base_uri": "https://localhost:8080/"
        },
        "id": "J_Bjph1voL3J",
        "outputId": "9df26c1d-3bd2-4eb5-e01f-a992d814c75c"
      },
      "execution_count": null,
      "outputs": [
        {
          "output_type": "stream",
          "name": "stdout",
          "text": [
            "Num Train: 40000\n",
            "Num Test: 10000\n"
          ]
        }
      ]
    },
    {
      "cell_type": "code",
      "source": [
        "train_data, valid_data = train_data.split(\n",
        "    split_ratio=[0.85, 0.15],\n",
        "    random_state=random.seed(RANDOM_SEED))\n",
        "\n",
        "print(f'Num Train: {len(train_data)}')\n",
        "print(f'Num Validation: {len(valid_data)}')"
      ],
      "metadata": {
        "colab": {
          "base_uri": "https://localhost:8080/"
        },
        "id": "YzkXMjrFvWyP",
        "outputId": "1e961c50-b926-4a18-d847-a7e81661812a"
      },
      "execution_count": null,
      "outputs": [
        {
          "output_type": "stream",
          "name": "stdout",
          "text": [
            "Num Train: 34000\n",
            "Num Validation: 6000\n"
          ]
        }
      ]
    },
    {
      "cell_type": "code",
      "source": [
        "TEXT.build_vocab(train_data, max_size=vocab_size)\n",
        "LABEL.build_vocab(train_data)\n",
        "\n",
        "print(f'Vocabulary size: {len(TEXT.vocab)}')\n",
        "print(f'Number of classes: {len(LABEL.vocab)}')"
      ],
      "metadata": {
        "colab": {
          "base_uri": "https://localhost:8080/"
        },
        "id": "1xxcW_M7vYM-",
        "outputId": "18d3d61f-74f9-4cbb-e9a7-f26e8bfc8938"
      },
      "execution_count": null,
      "outputs": [
        {
          "output_type": "stream",
          "name": "stdout",
          "text": [
            "Vocabulary size: 20002\n",
            "Number of classes: 2\n"
          ]
        }
      ]
    },
    {
      "cell_type": "code",
      "source": [
        "print(LABEL.vocab.stoi)"
      ],
      "metadata": {
        "colab": {
          "base_uri": "https://localhost:8080/"
        },
        "id": "sX-Oj0VYvZyX",
        "outputId": "4dd05197-23bb-46c3-fcf6-a430837c39ac"
      },
      "execution_count": null,
      "outputs": [
        {
          "output_type": "stream",
          "name": "stdout",
          "text": [
            "defaultdict(None, {'1': 0, '0': 1})\n"
          ]
        }
      ]
    },
    {
      "cell_type": "code",
      "source": [
        "LABEL.vocab.freqs"
      ],
      "metadata": {
        "colab": {
          "base_uri": "https://localhost:8080/"
        },
        "id": "kwXFL3U2vcAC",
        "outputId": "e31e7922-5939-4839-8366-9fe8ae1884b2"
      },
      "execution_count": null,
      "outputs": [
        {
          "output_type": "execute_result",
          "data": {
            "text/plain": [
              "Counter({'0': 16981, '1': 17019})"
            ]
          },
          "metadata": {},
          "execution_count": 14
        }
      ]
    },
    {
      "cell_type": "code",
      "source": [
        "train_loader, valid_loader, test_loader = torchtext.data.BucketIterator.splits(\n",
        "        (train_data, valid_data, test_data),\n",
        "        batch_size= batch_size,\n",
        "        sort_within_batch=False,\n",
        "        sort_key=lambda x: len(x.text),\n",
        "        device = device\n",
        "    )"
      ],
      "metadata": {
        "id": "F5fzKklEveuu"
      },
      "execution_count": null,
      "outputs": []
    },
    {
      "cell_type": "code",
      "source": [
        "class RNN(torch.nn.Module):\n",
        "    def __init__(self, input_dim, embedding_dim, hidden_dim, output_dim):\n",
        "        super().__init__()\n",
        "\n",
        "        self.embedding = torch.nn.Embedding(input_dim, embedding_dim)\n",
        "        self.rnn = torch.nn.LSTM(embedding_dim, hidden_dim)\n",
        "        self.fc = torch.nn.Linear(hidden_dim, output_dim)\n",
        "\n",
        "    def forward(self,text):\n",
        "        embedded = self.embedding(text)\n",
        "        output, (hidden, cell) = self.rnn(embedded)\n",
        "        hidden.squeeze_(0)\n",
        "        output = self.fc(hidden)\n",
        "        return output"
      ],
      "metadata": {
        "id": "8h5-wmPbvhN1"
      },
      "execution_count": null,
      "outputs": []
    },
    {
      "cell_type": "code",
      "source": [
        "torch.manual_seed(RANDOM_SEED)\n",
        "model = RNN(input_dim=len(TEXT.vocab),\n",
        "            embedding_dim=embedding_dim,\n",
        "            hidden_dim=hidden_dim,\n",
        "            output_dim=num_classes # could use 1 for binary classification\n",
        ")\n",
        "model = model.to(device)\n",
        "optimizer = torch.optim.Adam(model.parameters(), lr=0.005)"
      ],
      "metadata": {
        "id": "ek_SAqnOvlFx"
      },
      "execution_count": null,
      "outputs": []
    },
    {
      "cell_type": "code",
      "source": [
        "def compute_accuracy(model, data_loader, device):\n",
        "\n",
        "    with torch.no_grad():\n",
        "\n",
        "        correct_pred, num_examples = 0, 0\n",
        "\n",
        "        for i, (features, targets) in enumerate(data_loader):\n",
        "\n",
        "            features = features.to(device)\n",
        "            targets = targets.float().to(device)\n",
        "\n",
        "            logits = model(features)\n",
        "            _, predicted_labels = torch.max(logits, 1)\n",
        "\n",
        "            num_examples += targets.size(0)\n",
        "            correct_pred += (predicted_labels == targets).sum()\n",
        "    return correct_pred.float()/num_examples * 100"
      ],
      "metadata": {
        "id": "tb_9MSTLvpOX"
      },
      "execution_count": null,
      "outputs": []
    },
    {
      "cell_type": "code",
      "source": [
        "start_time = time.time()\n",
        "\n",
        "for epoch in range(num_epochs):\n",
        "    model.train()\n",
        "    for batch_idx, batch_data in enumerate(train_loader):\n",
        "        text = batch_data.text.to(device)\n",
        "        labels = batch_data.label.to(device)\n",
        "        preds = model(text)\n",
        "        loss = F.cross_entropy(preds, labels)\n",
        "        optimizer.zero_grad()\n",
        "        loss.backward()\n",
        "        optimizer.step()\n",
        "\n",
        "        if not batch_idx % 50:\n",
        "            print (f'Epoch: {epoch+1:03d}/{num_epochs:03d} | '\n",
        "                   f'Batch {batch_idx:03d}/{len(train_loader):03d} | '\n",
        "                   f'Loss: {loss:.4f}')\n",
        "    with torch.set_grad_enabled(False):\n",
        "        print(f'training accuracy: '\n",
        "              f'{compute_accuracy(model, train_loader, device):.2f}%'\n",
        "              f'\\nvalid accuracy: '\n",
        "              f'{compute_accuracy(model, valid_loader, device):.2f}%')\n",
        "\n",
        "    print(f'Time elapsed: {(time.time() - start_time)/60:.2f} min')\n",
        "\n",
        "print(f'Total Training Time: {(time.time() - start_time)/60:.2f} min')\n",
        "print(f'Test accuracy: {compute_accuracy(model, test_loader, device):.2f}%')"
      ],
      "metadata": {
        "colab": {
          "base_uri": "https://localhost:8080/",
          "height": 1000
        },
        "id": "xQhDoYvwvq4S",
        "outputId": "f3e45496-9765-460d-e9a3-6d69de3df7d7"
      },
      "execution_count": null,
      "outputs": [
        {
          "output_type": "stream",
          "name": "stdout",
          "text": [
            "Epoch: 001/015 | Batch 000/266 | Loss: 0.7168\n",
            "Epoch: 001/015 | Batch 050/266 | Loss: 0.6913\n",
            "Epoch: 001/015 | Batch 100/266 | Loss: 0.6896\n",
            "Epoch: 001/015 | Batch 150/266 | Loss: 0.6994\n",
            "Epoch: 001/015 | Batch 200/266 | Loss: 0.6907\n",
            "Epoch: 001/015 | Batch 250/266 | Loss: 0.6928\n",
            "training accuracy: 50.08%\n",
            "valid accuracy: 51.15%\n",
            "Time elapsed: 0.92 min\n",
            "Epoch: 002/015 | Batch 000/266 | Loss: 0.6926\n",
            "Epoch: 002/015 | Batch 050/266 | Loss: 0.6949\n",
            "Epoch: 002/015 | Batch 100/266 | Loss: 0.6927\n",
            "Epoch: 002/015 | Batch 150/266 | Loss: 0.6930\n",
            "Epoch: 002/015 | Batch 200/266 | Loss: 0.6917\n",
            "Epoch: 002/015 | Batch 250/266 | Loss: 0.6920\n",
            "training accuracy: 50.14%\n",
            "valid accuracy: 49.53%\n",
            "Time elapsed: 1.81 min\n",
            "Epoch: 003/015 | Batch 000/266 | Loss: 0.7058\n",
            "Epoch: 003/015 | Batch 050/266 | Loss: 0.6929\n",
            "Epoch: 003/015 | Batch 100/266 | Loss: 0.6975\n",
            "Epoch: 003/015 | Batch 150/266 | Loss: 0.6912\n",
            "Epoch: 003/015 | Batch 200/266 | Loss: 0.6910\n",
            "Epoch: 003/015 | Batch 250/266 | Loss: 0.6929\n",
            "training accuracy: 50.20%\n",
            "valid accuracy: 51.28%\n",
            "Time elapsed: 2.72 min\n",
            "Epoch: 004/015 | Batch 000/266 | Loss: 0.6920\n",
            "Epoch: 004/015 | Batch 050/266 | Loss: 0.6985\n",
            "Epoch: 004/015 | Batch 100/266 | Loss: 0.6870\n",
            "Epoch: 004/015 | Batch 150/266 | Loss: 0.6974\n",
            "Epoch: 004/015 | Batch 200/266 | Loss: 0.6891\n",
            "Epoch: 004/015 | Batch 250/266 | Loss: 0.6879\n",
            "training accuracy: 50.23%\n",
            "valid accuracy: 49.17%\n",
            "Time elapsed: 3.63 min\n",
            "Epoch: 005/015 | Batch 000/266 | Loss: 0.6896\n",
            "Epoch: 005/015 | Batch 050/266 | Loss: 0.6890\n",
            "Epoch: 005/015 | Batch 100/266 | Loss: 0.6906\n",
            "Epoch: 005/015 | Batch 150/266 | Loss: 0.6885\n",
            "Epoch: 005/015 | Batch 200/266 | Loss: 0.6905\n",
            "Epoch: 005/015 | Batch 250/266 | Loss: 0.6934\n",
            "training accuracy: 50.22%\n",
            "valid accuracy: 51.85%\n",
            "Time elapsed: 4.55 min\n",
            "Epoch: 006/015 | Batch 000/266 | Loss: 0.6917\n",
            "Epoch: 006/015 | Batch 050/266 | Loss: 0.6877\n",
            "Epoch: 006/015 | Batch 100/266 | Loss: 0.6907\n",
            "Epoch: 006/015 | Batch 150/266 | Loss: 0.6873\n",
            "Epoch: 006/015 | Batch 200/266 | Loss: 0.6919\n",
            "Epoch: 006/015 | Batch 250/266 | Loss: 0.6901\n",
            "training accuracy: 50.35%\n",
            "valid accuracy: 51.92%\n",
            "Time elapsed: 5.46 min\n",
            "Epoch: 007/015 | Batch 000/266 | Loss: 0.6907\n",
            "Epoch: 007/015 | Batch 050/266 | Loss: 0.6534\n",
            "Epoch: 007/015 | Batch 100/266 | Loss: 0.6477\n",
            "Epoch: 007/015 | Batch 150/266 | Loss: 0.6504\n",
            "Epoch: 007/015 | Batch 200/266 | Loss: 0.5828\n",
            "Epoch: 007/015 | Batch 250/266 | Loss: 0.3899\n",
            "training accuracy: 78.28%\n",
            "valid accuracy: 77.55%\n",
            "Time elapsed: 6.41 min\n",
            "Epoch: 008/015 | Batch 000/266 | Loss: 0.5287\n",
            "Epoch: 008/015 | Batch 050/266 | Loss: 0.5339\n",
            "Epoch: 008/015 | Batch 100/266 | Loss: 0.4655\n",
            "Epoch: 008/015 | Batch 150/266 | Loss: 0.4873\n",
            "Epoch: 008/015 | Batch 200/266 | Loss: 0.3879\n",
            "Epoch: 008/015 | Batch 250/266 | Loss: 0.4344\n",
            "training accuracy: 82.69%\n",
            "valid accuracy: 80.57%\n",
            "Time elapsed: 7.35 min\n",
            "Epoch: 009/015 | Batch 000/266 | Loss: 0.4351\n",
            "Epoch: 009/015 | Batch 050/266 | Loss: 0.3370\n",
            "Epoch: 009/015 | Batch 100/266 | Loss: 0.3626\n",
            "Epoch: 009/015 | Batch 150/266 | Loss: 0.4172\n",
            "Epoch: 009/015 | Batch 200/266 | Loss: 0.3705\n",
            "Epoch: 009/015 | Batch 250/266 | Loss: 0.4030\n",
            "training accuracy: 85.90%\n",
            "valid accuracy: 81.87%\n",
            "Time elapsed: 8.30 min\n",
            "Epoch: 010/015 | Batch 000/266 | Loss: 0.3586\n",
            "Epoch: 010/015 | Batch 050/266 | Loss: 0.2402\n",
            "Epoch: 010/015 | Batch 100/266 | Loss: 0.2472\n",
            "Epoch: 010/015 | Batch 150/266 | Loss: 0.4018\n",
            "Epoch: 010/015 | Batch 200/266 | Loss: 0.3268\n",
            "Epoch: 010/015 | Batch 250/266 | Loss: 0.2849\n",
            "training accuracy: 88.32%\n",
            "valid accuracy: 82.92%\n",
            "Time elapsed: 9.24 min\n",
            "Epoch: 011/015 | Batch 000/266 | Loss: 0.3038\n",
            "Epoch: 011/015 | Batch 050/266 | Loss: 0.4016\n",
            "Epoch: 011/015 | Batch 100/266 | Loss: 0.3865\n",
            "Epoch: 011/015 | Batch 150/266 | Loss: 0.3528\n",
            "Epoch: 011/015 | Batch 200/266 | Loss: 0.4091\n",
            "Epoch: 011/015 | Batch 250/266 | Loss: 0.3964\n",
            "training accuracy: 89.26%\n",
            "valid accuracy: 82.82%\n",
            "Time elapsed: 10.18 min\n",
            "Epoch: 012/015 | Batch 000/266 | Loss: 0.3009\n",
            "Epoch: 012/015 | Batch 050/266 | Loss: 0.3243\n",
            "Epoch: 012/015 | Batch 100/266 | Loss: 0.3429\n",
            "Epoch: 012/015 | Batch 150/266 | Loss: 0.2956\n",
            "Epoch: 012/015 | Batch 200/266 | Loss: 0.3486\n",
            "Epoch: 012/015 | Batch 250/266 | Loss: 0.2137\n",
            "training accuracy: 91.38%\n",
            "valid accuracy: 84.20%\n",
            "Time elapsed: 11.12 min\n",
            "Epoch: 013/015 | Batch 000/266 | Loss: 0.2586\n",
            "Epoch: 013/015 | Batch 050/266 | Loss: 0.1168\n",
            "Epoch: 013/015 | Batch 100/266 | Loss: 0.2108\n",
            "Epoch: 013/015 | Batch 150/266 | Loss: 0.2100\n",
            "Epoch: 013/015 | Batch 200/266 | Loss: 0.1841\n",
            "Epoch: 013/015 | Batch 250/266 | Loss: 0.2490\n",
            "training accuracy: 92.31%\n",
            "valid accuracy: 84.12%\n",
            "Time elapsed: 12.08 min\n",
            "Epoch: 014/015 | Batch 000/266 | Loss: 0.2769\n",
            "Epoch: 014/015 | Batch 050/266 | Loss: 0.2535\n",
            "Epoch: 014/015 | Batch 100/266 | Loss: 0.1985\n",
            "Epoch: 014/015 | Batch 150/266 | Loss: 0.1963\n",
            "Epoch: 014/015 | Batch 200/266 | Loss: 0.1638\n",
            "Epoch: 014/015 | Batch 250/266 | Loss: 0.2877\n",
            "training accuracy: 93.65%\n",
            "valid accuracy: 83.98%\n",
            "Time elapsed: 13.02 min\n",
            "Epoch: 015/015 | Batch 000/266 | Loss: 0.2711\n",
            "Epoch: 015/015 | Batch 050/266 | Loss: 0.2877\n",
            "Epoch: 015/015 | Batch 100/266 | Loss: 0.2439\n",
            "Epoch: 015/015 | Batch 150/266 | Loss: 0.2035\n",
            "Epoch: 015/015 | Batch 200/266 | Loss: 0.2123\n",
            "Epoch: 015/015 | Batch 250/266 | Loss: 0.2350\n",
            "training accuracy: 94.70%\n",
            "valid accuracy: 84.48%\n",
            "Time elapsed: 13.97 min\n",
            "Total Training Time: 13.97 min\n"
          ]
        },
        {
          "output_type": "error",
          "ename": "NameError",
          "evalue": "name 'DEVICE' is not defined",
          "traceback": [
            "\u001b[0;31m---------------------------------------------------------------------------\u001b[0m",
            "\u001b[0;31mNameError\u001b[0m                                 Traceback (most recent call last)",
            "\u001b[0;32m<ipython-input-30-31ab2160d54d>\u001b[0m in \u001b[0;36m<cell line: 27>\u001b[0;34m()\u001b[0m\n\u001b[1;32m     25\u001b[0m \u001b[0;34m\u001b[0m\u001b[0m\n\u001b[1;32m     26\u001b[0m \u001b[0mprint\u001b[0m\u001b[0;34m(\u001b[0m\u001b[0;34mf'Total Training Time: {(time.time() - start_time)/60:.2f} min'\u001b[0m\u001b[0;34m)\u001b[0m\u001b[0;34m\u001b[0m\u001b[0;34m\u001b[0m\u001b[0m\n\u001b[0;32m---> 27\u001b[0;31m \u001b[0mprint\u001b[0m\u001b[0;34m(\u001b[0m\u001b[0;34mf'Test accuracy: {compute_accuracy(model, test_loader, DEVICE):.2f}%'\u001b[0m\u001b[0;34m)\u001b[0m\u001b[0;34m\u001b[0m\u001b[0;34m\u001b[0m\u001b[0m\n\u001b[0m",
            "\u001b[0;31mNameError\u001b[0m: name 'DEVICE' is not defined"
          ]
        }
      ]
    },
    {
      "cell_type": "code",
      "source": [
        "print(f'Total Training Time: {(time.time() - start_time)/60:.2f} min')\n",
        "print(f'Test accuracy: {compute_accuracy(model, test_loader, device):.2f}%')"
      ],
      "metadata": {
        "colab": {
          "base_uri": "https://localhost:8080/"
        },
        "id": "F_yWR8xqvtN0",
        "outputId": "e13fbbf5-0228-4049-cf78-d1a2c2783b71"
      },
      "execution_count": null,
      "outputs": [
        {
          "output_type": "stream",
          "name": "stdout",
          "text": [
            "Total Training Time: 14.59 min\n",
            "Test accuracy: 83.66%\n"
          ]
        }
      ]
    },
    {
      "cell_type": "code",
      "source": [
        "from google.colab import drive\n",
        "drive.mount('/content/drive')"
      ],
      "metadata": {
        "colab": {
          "base_uri": "https://localhost:8080/"
        },
        "id": "97Buts5d2tqz",
        "outputId": "7ef829aa-6ccb-44ca-ce86-995164667243"
      },
      "execution_count": null,
      "outputs": [
        {
          "output_type": "stream",
          "name": "stdout",
          "text": [
            "Mounted at /content/drive\n"
          ]
        }
      ]
    },
    {
      "cell_type": "code",
      "source": [
        "torch.save(model.state_dict(), '/content/drive/My Drive/Colab Notebooks/hello.pt')"
      ],
      "metadata": {
        "id": "FbfuCWDl3dce"
      },
      "execution_count": null,
      "outputs": []
    },
    {
      "cell_type": "code",
      "source": [
        "#Need to have this if the model was not previously created: model = TheModelClass(*args, **kwargs)\n",
        "model.load_state_dict(torch.load('/content/drive/My Drive/Colab Notebooks/hello.pt'))\n"
      ],
      "metadata": {
        "colab": {
          "base_uri": "https://localhost:8080/"
        },
        "id": "bUbbW1Hh4kHK",
        "outputId": "ce8e8946-c942-49a5-e286-d3d6c005adac"
      },
      "execution_count": null,
      "outputs": [
        {
          "output_type": "execute_result",
          "data": {
            "text/plain": [
              "<All keys matched successfully>"
            ]
          },
          "metadata": {},
          "execution_count": 40
        }
      ]
    },
    {
      "cell_type": "code",
      "source": [
        "model"
      ],
      "metadata": {
        "colab": {
          "base_uri": "https://localhost:8080/"
        },
        "id": "hhUi1_LS5fci",
        "outputId": "cd5d9a74-4cf5-44b8-9b50-94a234fc8cdf"
      },
      "execution_count": null,
      "outputs": [
        {
          "output_type": "execute_result",
          "data": {
            "text/plain": [
              "RNN(\n",
              "  (embedding): Embedding(20002, 128)\n",
              "  (rnn): LSTM(128, 256)\n",
              "  (fc): Linear(in_features=256, out_features=2, bias=True)\n",
              ")"
            ]
          },
          "metadata": {},
          "execution_count": 44
        }
      ]
    }
  ]
}